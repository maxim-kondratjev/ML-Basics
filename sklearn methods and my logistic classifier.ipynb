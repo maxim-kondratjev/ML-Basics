{
 "cells": [
  {
   "cell_type": "code",
   "execution_count": null,
   "metadata": {},
   "outputs": [],
   "source": [
    "import pickle\n",
    "import math\n",
    "import numpy as np\n",
    "from sklearn.model_selection import train_test_split \n",
    "from sklearn.metrics import accuracy_score\n",
    "from sklearn.metrics import mean_squared_error\n",
    "import seaborn as sns\n",
    "import pandas as pd\n",
    "from matplotlib import pyplot as plt\n",
    "from sklearn.tree import DecisionTreeClassifier\n",
    "from sklearn.svm import NuSVC\n",
    "from sklearn.svm import LinearSVC\n",
    "from sklearn.svm import SVC\n",
    "from sklearn.ensemble import RandomForestClassifier\n",
    "from sklearn.ensemble import AdaBoostClassifier\n",
    "from sklearn import preprocessing\n",
    "from xgboost import XGBClassifier"
   ]
  },
  {
   "cell_type": "code",
   "execution_count": null,
   "metadata": {},
   "outputs": [],
   "source": [
    "## Функция визуализации данных\n",
    "def gen_image(arr):\n",
    "    two_d = (np.reshape(arr, (28, 28)) * 255).astype(np.uint8)\n",
    "    plt.imshow(two_d)\n",
    "    return plt"
   ]
  },
  {
   "cell_type": "code",
   "execution_count": null,
   "metadata": {},
   "outputs": [],
   "source": [
    "class MyLogisticClassifier:\n",
    "    def __init__(self, steps, alpha, add_intercept = True, decreasing_alpha = False):\n",
    "        self.steps = steps\n",
    "        self.alpha = alpha\n",
    "        self.add_intercept = add_intercept\n",
    "        self.decreasing_alpha = decreasing_alpha\n",
    "        \n",
    "    @staticmethod\n",
    "    def sigmoid(x):\n",
    "        return 1 / (1 + np.exp(-x))\n",
    "    \n",
    "    def fit(self, _X, _y):\n",
    "        X, y = _X, _y\n",
    "        if self.add_intercept: \n",
    "            intercept = np.ones((X.shape[0], 1))\n",
    "            X = np.hstack((intercept, X))\n",
    "        self.classes = np.unique(y)\n",
    "        self.classes_weights = {}\n",
    "        for cls in self.classes:\n",
    "            self.classes_weights[cls] = np.random.uniform(-50, 50, X.shape[1])\n",
    "        \n",
    "        for cls in self.classes:\n",
    "            y_cls = list(map(lambda x: 1 if x == cls else 0, y))\n",
    "            for step in range(self.steps):\n",
    "                scores = np.dot(X, self.classes_weights[cls])\n",
    "                predictions = self.sigmoid(scores)\n",
    "\n",
    "                error = y_cls - predictions\n",
    "                gradient = np.dot(X.T, error) \n",
    "\n",
    "                if self.decreasing_alpha:\n",
    "                    self.classes_weights[cls] += self.alpha/sqrt(step+1) * gradient\n",
    "                else:\n",
    "                    self.classes_weights[cls] += self.alpha * gradient\n",
    "            \n",
    "        \n",
    "    def predict_classes(self, _X):\n",
    "        X = _X\n",
    "        if self.add_intercept:\n",
    "            intercept = np.ones((X.shape[0], 1))\n",
    "            X = np.hstack((intercept, X))\n",
    "        \n",
    "        labels = []\n",
    "        for cls in self.classes:\n",
    "            predictions = []\n",
    "            for cls in self.classes:\n",
    "                predictions.append(self.sigmoid(np.dot(X, self.classes_weights[cls])))\n",
    "                \n",
    "  \n",
    "        predictions = np.array(predictions).T\n",
    "        for pred in predictions:\n",
    "            pred = list(pred)\n",
    "            labels.append(pred.index(max(pred)))\n",
    "\n",
    "                \n",
    "        return labels"
   ]
  },
  {
   "cell_type": "code",
   "execution_count": null,
   "metadata": {},
   "outputs": [],
   "source": [
    "with open(\"mnist.dump\",\"rb\") as f:\n",
    "    mnist = pickle.load(f, encoding = \"latin1\")"
   ]
  },
  {
   "cell_type": "code",
   "execution_count": null,
   "metadata": {},
   "outputs": [],
   "source": [
    "X_mnist = mnist.data\n",
    "y_mnist = mnist.target\n",
    "X_mnist_train, X_mnist_test, y_mnist_train, y_mnist_test = train_test_split(X_mnist, \n",
    "                                                                            y_mnist, \n",
    "                                                                            random_state = 57,\n",
    "                                                                            test_size = 0.1)\n",
    "\n",
    "preprocessing.normalize(X_mnist_train, copy = False)\n",
    "preprocessing.normalize(X_mnist_test, copy = False)"
   ]
  },
  {
   "cell_type": "code",
   "execution_count": null,
   "metadata": {},
   "outputs": [],
   "source": [
    "for i in range(3):\n",
    "    gen_image(X_mnist_train[i])\n",
    "    plt.show()"
   ]
  },
  {
   "cell_type": "code",
   "execution_count": null,
   "metadata": {},
   "outputs": [],
   "source": [
    "%%time\n",
    "mlr = MyLogisticClassifier(100, 0.01)\n",
    "mlr.fit(X_mnist_train, y_mnist_train)"
   ]
  },
  {
   "cell_type": "code",
   "execution_count": null,
   "metadata": {},
   "outputs": [],
   "source": [
    "y_mnist_train_pred = mlr.predict_classes(X_mnist_train)\n",
    "y_mnist_test_pred = mlr.predict_classes(X_mnist_test)"
   ]
  },
  {
   "cell_type": "code",
   "execution_count": null,
   "metadata": {},
   "outputs": [],
   "source": [
    "print(\"\\nAccuracy on train\")\n",
    "print(accuracy_score(y_mnist_train, y_mnist_train_pred))\n",
    "print(\"\\nAccuracy on test\")\n",
    "print(accuracy_score(y_mnist_test, y_mnist_test_pred))"
   ]
  },
  {
   "cell_type": "code",
   "execution_count": null,
   "metadata": {},
   "outputs": [],
   "source": [
    "%%time\n",
    "svc = LinearSVC(max_iter = 1000)\n",
    "svc.fit(X_mnist_train, y_mnist_train)"
   ]
  },
  {
   "cell_type": "code",
   "execution_count": null,
   "metadata": {},
   "outputs": [],
   "source": [
    "y_mnist_train_pred = svc.predict(X_mnist_train)\n",
    "y_mnist_test_pred = svc.predict(X_mnist_test)"
   ]
  },
  {
   "cell_type": "code",
   "execution_count": null,
   "metadata": {},
   "outputs": [],
   "source": [
    "print(\"\\nAccuracy on train\")\n",
    "print(accuracy_score(y_mnist_train, y_mnist_train_pred))\n",
    "print(\"Accuracy on test\")\n",
    "print(accuracy_score(y_mnist_test, y_mnist_test_pred))"
   ]
  },
  {
   "cell_type": "code",
   "execution_count": null,
   "metadata": {},
   "outputs": [],
   "source": [
    "%%time\n",
    "xgb = XGBClassifier()\n",
    "xgb.fit(X_mnist_train, y_mnist_train)"
   ]
  },
  {
   "cell_type": "code",
   "execution_count": null,
   "metadata": {},
   "outputs": [],
   "source": [
    "y_mnist_train_pred = xgb.predict(X_mnist_train)\n",
    "y_mnist_test_pred = xgb.predict(X_mnist_test)"
   ]
  },
  {
   "cell_type": "code",
   "execution_count": null,
   "metadata": {},
   "outputs": [],
   "source": [
    "print(\"\\nAccuracy on train\")\n",
    "print(accuracy_score(y_mnist_train, y_mnist_train_pred))\n",
    "print(\"Accuracy on test\")\n",
    "print(accuracy_score(y_mnist_test, y_mnist_test_pred))"
   ]
  },
  {
   "cell_type": "code",
   "execution_count": null,
   "metadata": {},
   "outputs": [],
   "source": [
    "%%time\n",
    "dtc = DecisionTreeClassifier()\n",
    "dtc.fit(X_mnist_train, y_mnist_train)"
   ]
  },
  {
   "cell_type": "code",
   "execution_count": null,
   "metadata": {},
   "outputs": [],
   "source": [
    "y_mnist_train_pred = dtc.predict(X_mnist_train)\n",
    "y_mnist_test_pred = dtc.predict(X_mnist_test)"
   ]
  },
  {
   "cell_type": "code",
   "execution_count": null,
   "metadata": {},
   "outputs": [],
   "source": [
    "print(\"\\nAccuracy on train\")\n",
    "print(accuracy_score(y_mnist_train, y_mnist_train_pred))\n",
    "print(\"Accuracy on test\")\n",
    "print(accuracy_score(y_mnist_test, y_mnist_test_pred))"
   ]
  },
  {
   "cell_type": "code",
   "execution_count": null,
   "metadata": {},
   "outputs": [],
   "source": [
    "%%time\n",
    "rfc = RandomForestClassifier(n_estimators = 100)\n",
    "rfc.fit(X_mnist_train, y_mnist_train)"
   ]
  },
  {
   "cell_type": "code",
   "execution_count": null,
   "metadata": {
    "scrolled": true
   },
   "outputs": [],
   "source": [
    "y_mnist_train_pred = rfc.predict(X_mnist_train)\n",
    "y_mnist_test_pred = rfc.predict(X_mnist_test)"
   ]
  },
  {
   "cell_type": "code",
   "execution_count": null,
   "metadata": {},
   "outputs": [],
   "source": [
    "print(\"\\nAccuracy on train\")\n",
    "print(accuracy_score(y_mnist_train, y_mnist_train_pred))\n",
    "print(\"Accuracy on test\")\n",
    "print(accuracy_score(y_mnist_test, y_mnist_test_pred))"
   ]
  },
  {
   "cell_type": "code",
   "execution_count": null,
   "metadata": {},
   "outputs": [],
   "source": [
    "%%time\n",
    "abc = AdaBoostClassifier(DecisionTreeClassifier(), n_estimators = 10)\n",
    "abc.fit(X_mnist_train, y_mnist_train)"
   ]
  },
  {
   "cell_type": "code",
   "execution_count": null,
   "metadata": {},
   "outputs": [],
   "source": [
    "y_mnist_train_pred = abc.predict(X_mnist_train)\n",
    "y_mnist_test_pred = abc.predict(X_mnist_test)"
   ]
  },
  {
   "cell_type": "code",
   "execution_count": null,
   "metadata": {},
   "outputs": [],
   "source": [
    "print(\"\\nAccuracy on train\")\n",
    "print(accuracy_score(y_mnist_train, y_mnist_train_pred))\n",
    "print(\"Accuracy on test\")\n",
    "print(accuracy_score(y_mnist_test, y_mnist_test_pred))"
   ]
  },
  {
   "cell_type": "code",
   "execution_count": null,
   "metadata": {},
   "outputs": [],
   "source": [
    "%%time\n",
    "abc = AdaBoostClassifier(RandomForestClassifier(n_estimators = 10), n_estimators = 100)\n",
    "abc.fit(X_mnist_train, y_mnist_train)"
   ]
  },
  {
   "cell_type": "code",
   "execution_count": null,
   "metadata": {},
   "outputs": [],
   "source": [
    "y_mnist_train_pred = abc.predict(X_mnist_train)\n",
    "y_mnist_test_pred = abc.predict(X_mnist_test)"
   ]
  },
  {
   "cell_type": "code",
   "execution_count": null,
   "metadata": {},
   "outputs": [],
   "source": [
    "print(\"\\nAccuracy on train\")\n",
    "print(accuracy_score(y_mnist_train, y_mnist_train_pred))\n",
    "print(\"Accuracy on test\")\n",
    "print(accuracy_score(y_mnist_test, y_mnist_test_pred))"
   ]
  }
 ],
 "metadata": {
  "kernelspec": {
   "display_name": "Python 3",
   "language": "python",
   "name": "python3"
  },
  "language_info": {
   "codemirror_mode": {
    "name": "ipython",
    "version": 3
   },
   "file_extension": ".py",
   "mimetype": "text/x-python",
   "name": "python",
   "nbconvert_exporter": "python",
   "pygments_lexer": "ipython3",
   "version": "3.7.0"
  }
 },
 "nbformat": 4,
 "nbformat_minor": 2
}
